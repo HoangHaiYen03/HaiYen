{
 "cells": [
  {
   "cell_type": "code",
   "execution_count": 1,
   "id": "d9829184",
   "metadata": {},
   "outputs": [],
   "source": [
    "import pandas as pd\n",
    "import numpy as np"
   ]
  },
  {
   "cell_type": "code",
   "execution_count": 5,
   "id": "88c96958",
   "metadata": {},
   "outputs": [
    {
     "name": "stdout",
     "output_type": "stream",
     "text": [
      "Requirement already satisfied: beautifulsoup4 in c:\\users\\ce\\anaconda3\\lib\\site-packages (4.12.2)\n",
      "Requirement already satisfied: soupsieve>1.2 in c:\\users\\ce\\anaconda3\\lib\\site-packages (from beautifulsoup4) (2.4)\n"
     ]
    }
   ],
   "source": [
    "!pip install beautifulsoup4"
   ]
  },
  {
   "cell_type": "code",
   "execution_count": 9,
   "id": "90b20b40",
   "metadata": {},
   "outputs": [
    {
     "name": "stdout",
     "output_type": "stream",
     "text": [
      "<Response [200]>\n"
     ]
    }
   ],
   "source": [
    "URL = 'https://bdshanoi.com.vn/ban-can-ho-quan-tay-ho/ban-can-ho-view-dep-can-hiem-tai-toa-nha-dleroi-solei-xuan-dieu-tay-ho-ha-noi.578.html'\n",
    "\n",
    "response = requests.get(URL)\n",
    "\n",
    "print(response)"
   ]
  },
  {
   "cell_type": "code",
   "execution_count": 19,
   "id": "ad75b192",
   "metadata": {},
   "outputs": [
    {
     "name": "stdout",
     "output_type": "stream",
     "text": [
      "Bán căn hộ view đẹp căn hiếm tại toà nhà D leroi solei Xuân Diệu Tây Hồ Hà Nội\n"
     ]
    }
   ],
   "source": [
    "from bs4 import BeautifulSoup\n",
    "import requests\n",
    "\n",
    "soup = BeautifulSoup(response.content, \"html.parser\")\n",
    "title = soup.find(\"h1\").text.strip()\n",
    "print(title)"
   ]
  },
  {
   "cell_type": "code",
   "execution_count": 15,
   "id": "e7bc28e7",
   "metadata": {},
   "outputs": [
    {
     "name": "stdout",
     "output_type": "stream",
     "text": [
      "<ul class=\"ultech\"><li>Khu Vực:  Quận Tây Hồ</li><li>Loại BDS:  Bán căn hộ quận Tây Hồ </li><li>Diện tích sử dụng:  137</li><li>Phòng khách:  80</li><li>Phòng ngủ:  3</li><li>Phòng tắm:  2</li><li>Ban công:  có</li><li>Hướng:  Đông bắc</li><li>Nội thất:  gắn tường</li></ul>\n"
     ]
    }
   ],
   "source": [
    "info_ul = soup.find(\"ul\", class_=\"ultech\")\n",
    "print(info_ul)"
   ]
  },
  {
   "cell_type": "code",
   "execution_count": 23,
   "id": "43625fb0",
   "metadata": {},
   "outputs": [
    {
     "name": "stdout",
     "output_type": "stream",
     "text": [
      "['Khu Vực: \\xa0Quận Tây Hồ', 'Loại BDS: \\xa0Bán căn hộ quận Tây Hồ', 'Diện tích sử dụng: \\xa0137', 'Phòng khách: \\xa080', 'Phòng ngủ: \\xa03', 'Phòng tắm: \\xa02', 'Ban công: \\xa0có', 'Hướng: \\xa0Đông bắc', 'Nội thất: \\xa0gắn tường']\n"
     ]
    }
   ],
   "source": [
    "info_lis = info_ul.findChildren('li', recursive=True)\n",
    "\n",
    "info_lis = [info_li.text.strip() for info_li in info_lis]\n",
    "    \n",
    "print(info_lis)"
   ]
  },
  {
   "cell_type": "code",
   "execution_count": 26,
   "id": "2d370f42",
   "metadata": {},
   "outputs": [
    {
     "name": "stdout",
     "output_type": "stream",
     "text": [
      "12 tỷ\n"
     ]
    }
   ],
   "source": [
    "price = info_ul = soup.find(\"span\", id=\"pnum\").text.strip()\n",
    "print(price)"
   ]
  },
  {
   "cell_type": "code",
   "execution_count": 34,
   "id": "c61a2f6c",
   "metadata": {},
   "outputs": [],
   "source": [
    "# Gộp lại tất cả các biến, các giá trị trên thành 1 DataFrame trong pandas\n",
    "housing_detail = [(title, info_lis[0], info_lis[1], info_li[2], info_lis[3], price)]\n",
    "# Dùng hàm to_csv() của pandas để ghi ra csv\n",
    "columns = ['Title', 'Khu vuc', 'Loai BDS', 'Dien tich', 'Phong khach', 'Gia tien']\n",
    "\n",
    "housing_dataset = pd.DataFrame(housing_detail, columns=columns)\n",
    "\n",
    "housing_dataset.to_csv('housing_dataset.csv', index=None, encoding='utf-8-sig')"
   ]
  }
 ],
 "metadata": {
  "kernelspec": {
   "display_name": "Python 3 (ipykernel)",
   "language": "python",
   "name": "python3"
  },
  "language_info": {
   "codemirror_mode": {
    "name": "ipython",
    "version": 3
   },
   "file_extension": ".py",
   "mimetype": "text/x-python",
   "name": "python",
   "nbconvert_exporter": "python",
   "pygments_lexer": "ipython3",
   "version": "3.11.4"
  }
 },
 "nbformat": 4,
 "nbformat_minor": 5
}
